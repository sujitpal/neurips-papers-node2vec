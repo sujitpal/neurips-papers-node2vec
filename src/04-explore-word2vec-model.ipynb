{
 "cells": [
  {
   "cell_type": "markdown",
   "metadata": {},
   "source": [
    "## Explore the vector space\n",
    "\n",
    "We have created a Word2Vec model from the adjacency matrix representing document similarities for a set of 7000 NeurIPS papers from 1987-2017. Here we use the gensim API to explore the space."
   ]
  },
  {
   "cell_type": "code",
   "execution_count": 1,
   "metadata": {},
   "outputs": [],
   "source": [
    "import gensim\n",
    "import os"
   ]
  },
  {
   "cell_type": "code",
   "execution_count": 2,
   "metadata": {},
   "outputs": [],
   "source": [
    "DATA_DIR = \"../data\"\n",
    "MODEL_FILE = os.path.join(DATA_DIR, \"w2v-nips-papers.model\")\n",
    "ID_TITLE_MAPPING_FILE = os.path.join(DATA_DIR, \"NeurIPS_id-title.csv\")"
   ]
  },
  {
   "cell_type": "markdown",
   "metadata": {},
   "source": [
    "### Mapping from paper ID to Title (Year)\n",
    "\n",
    "Note that paper ID provided in the Kaggle dataset was 1 based, whereas the paper ids we have used in our model is 0 based (since it is just the column number of the similarity matrix), so we need to make the correction here."
   ]
  },
  {
   "cell_type": "code",
   "execution_count": 3,
   "metadata": {},
   "outputs": [],
   "source": [
    "pid2title = {}\n",
    "fitm = open(ID_TITLE_MAPPING_FILE, \"r\")\n",
    "for line in fitm:\n",
    "    pid, title = line.strip().split('\\t')\n",
    "    pid = int(pid) - 1      # pids provided are 1-based\n",
    "    pid2title[pid] = title\n",
    "\n",
    "fitm.close()"
   ]
  },
  {
   "cell_type": "markdown",
   "metadata": {},
   "source": [
    "### Load Model"
   ]
  },
  {
   "cell_type": "code",
   "execution_count": 4,
   "metadata": {},
   "outputs": [],
   "source": [
    "model = gensim.models.Word2Vec.load(MODEL_FILE).wv"
   ]
  },
  {
   "cell_type": "markdown",
   "metadata": {},
   "source": [
    "### Show papers in Word2Vec space"
   ]
  },
  {
   "cell_type": "code",
   "execution_count": 5,
   "metadata": {},
   "outputs": [
    {
     "name": "stdout",
     "output_type": "stream",
     "text": [
      "   0 Self-Organization of Associative Database and Its Applications (1987)\n",
      "4255 Recovering Intrinsic Images with a Global Sparsity Prior on Reflectance (2011)\n",
      "4686 Large Scale Distributed Deep Networks (2012)\n",
      "2868 Beyond Gaussian Processes: On the Distributions of Infinite Networks (2005)\n",
      "2240 Approximate Linear Programming for Average-Cost Dynamic Programming (2002)\n",
      "7077 Hash Embeddings for Efficient Word Representations (2017)\n",
      "3287 Density Estimation under Independent Similarly Distributed Sampling Assumptions (2007)\n",
      "5897 Efficient Output Kernel Learning for Multiple Tasks (2015)\n",
      "4009 Learning Efficient Markov Networks (2010)\n",
      "5622 Spike Frequency Adaptation Implements Anticipative Tracking in Continuous Attractor Neural Networks (2014)\n"
     ]
    }
   ],
   "source": [
    "# elements of the embedding\n",
    "pids = model.vocab.keys()\n",
    "sample_pids = [int(p) for p in pids][0:10]\n",
    "for pid in sample_pids:\n",
    "    print(\"{:4d} {:s}\".format(pid, pid2title[pid]))"
   ]
  },
  {
   "cell_type": "markdown",
   "metadata": {},
   "source": [
    "### Find papers similar to given paper\n",
    "\n",
    "Here we will look for papers similar to our given paper, in our case:\n",
    "\n",
    "    4429 A concave regularization technique for sparse mixture models (2011)\n"
   ]
  },
  {
   "cell_type": "code",
   "execution_count": 6,
   "metadata": {},
   "outputs": [
    {
     "name": "stdout",
     "output_type": "stream",
     "text": [
      "0.718 2550 An Auditory Paradigm for Brain-Computer Interfaces (2004)\n",
      "0.683 5014 Similarity Component Analysis (2013)\n",
      "0.670 3878 Statistical Consistency of Top-k Ranking (2009)\n",
      "0.660 2785 Oblivious Equilibrium: A Mean Field Approximation for Large-Scale Dynamic Games (2005)\n",
      "0.646 3084 Blind Motion Deblurring Using Image Statistics (2006)\n",
      "0.643 5231 Dependent nonparametric trees for dynamic hierarchical clustering (2014)\n",
      "0.636 4276 Trace Lasso: a trace norm regularization for correlated designs (2011)\n",
      "0.629 2813 Cue Integration for Figure/Ground Labeling (2005)\n",
      "0.624 1774 Reinforcement Learning for Spoken Dialogue Systems (1999)\n",
      "0.624 3800 Sparse and Locally Constant Gaussian Graphical Models (2009)\n"
     ]
    }
   ],
   "source": [
    "# check for most similar to given\n",
    "source_paper_id = 4429\n",
    "for rpid, score in model.most_similar(str(source_paper_id)):\n",
    "    print(\"{:.3f} {:s} {:s}\".format(\n",
    "        score, rpid, pid2title[int(rpid)]\n",
    "    )\n",
    ")"
   ]
  },
  {
   "cell_type": "markdown",
   "metadata": {},
   "source": [
    "### Arithmetic in Paper Vector Space\n",
    "\n",
    "We can do analogies similar to word analogies by doing vector arithmetic. Consider the following papers.\n",
    "\n",
    "    A: 1180    Representing Face Images for Emotion Classification (1996)\n",
    "    B: 5209    Transfer Learning in a Transductive Setting (2013)\n",
    "    C: 3488    Semi-supervised Learning with Weakly-Related Unlabeled Data : Towards Better Text Categorization (2008)\n",
    "\n",
    "We want to find a paper D that satisfies the analogy:\n",
    "\n",
    "    A : B :: C : D\n",
    "    \n",
    "This translates to the following vector arithmetic.\n",
    "\n",
    "    D = B - A + C\n",
    "    "
   ]
  },
  {
   "cell_type": "code",
   "execution_count": 7,
   "metadata": {},
   "outputs": [
    {
     "name": "stdout",
     "output_type": "stream",
     "text": [
      "5359 Content-based recommendations with Poisson factorization (2014)\n"
     ]
    }
   ],
   "source": [
    "paper_d = model.most_similar(\n",
    "    positive=[\"5209\", \"3488\"],\n",
    "    negative=[\"1180\"])[0:1][0][0]\n",
    "\n",
    "print(\"{:s} {:s}\".format(paper_d, pid2title[int(paper_d)]))"
   ]
  },
  {
   "cell_type": "markdown",
   "metadata": {},
   "source": [
    "### Paper vector shape"
   ]
  },
  {
   "cell_type": "code",
   "execution_count": 8,
   "metadata": {},
   "outputs": [
    {
     "name": "stdout",
     "output_type": "stream",
     "text": [
      "[ 0.13583909 -0.02244393  0.3873859   0.29312187 -0.16611952  0.0433773\n",
      " -0.2423136   0.06728296  0.25277796  0.05704262  0.12595896  0.25350544\n",
      " -0.08501874 -0.00789746  0.41689166  0.11127666  0.02860924  0.083965\n",
      " -0.09773003 -0.3235104  -0.00899219  0.4631019   0.21359956 -0.17719519\n",
      " -0.1465802  -0.12468671 -0.11025383 -0.1728496   0.44396612 -0.11851183\n",
      "  0.11029281 -0.03216375 -0.00953399  0.3021255  -0.119446    0.18065514\n",
      " -0.05294707  0.05189841 -0.03704946 -0.11981184 -0.05654713 -0.1881413\n",
      " -0.05596744  0.19265322 -0.05588282 -0.01161718  0.25358528  0.06337409\n",
      " -0.00299477  0.06828507  0.10308459  0.28453144 -0.02787677  0.12925784\n",
      " -0.07739409  0.06806321 -0.2513676  -0.12105264  0.17838612 -0.01458598\n",
      "  0.18330823 -0.05671765  0.09071547 -0.05309341 -0.1006922   0.08662736\n",
      "  0.02447449 -0.17677718  0.02643329 -0.27073658 -0.16924134 -0.2692922\n",
      "  0.06955224  0.15653731 -0.1708236  -0.08607574 -0.16008934  0.12662053\n",
      "  0.29479867 -0.36931068 -0.23695946  0.10333052 -0.0584083  -0.15478782\n",
      "  0.00394467 -0.10774916 -0.10484387  0.35048622 -0.10470435  0.19928758\n",
      " -0.10408817 -0.06734391 -0.17692563  0.00581989 -0.08522335 -0.11290801\n",
      "  0.2076279   0.23132318 -0.05556182 -0.05617154 -0.07106823 -0.22416997\n",
      "  0.09285343 -0.15140241 -0.14527577  0.12533343 -0.17526878  0.08300125\n",
      "  0.03524606  0.08031975  0.0029086  -0.16675872 -0.05007219 -0.18217188\n",
      "  0.09914889  0.1977077   0.05075053 -0.01627776  0.10935438 -0.2769099\n",
      " -0.28260642  0.17204702 -0.14316292 -0.17724022 -0.13123769 -0.09258689\n",
      "  0.04793523 -0.12964529]\n",
      "(128,)\n"
     ]
    }
   ],
   "source": [
    "vec = model[str(source_paper_id)]\n",
    "print(vec)\n",
    "print(vec.shape)"
   ]
  },
  {
   "cell_type": "code",
   "execution_count": null,
   "metadata": {},
   "outputs": [],
   "source": []
  }
 ],
 "metadata": {
  "kernelspec": {
   "display_name": "Python 3",
   "language": "python",
   "name": "python3"
  },
  "language_info": {
   "codemirror_mode": {
    "name": "ipython",
    "version": 3
   },
   "file_extension": ".py",
   "mimetype": "text/x-python",
   "name": "python",
   "nbconvert_exporter": "python",
   "pygments_lexer": "ipython3",
   "version": "3.6.5"
  }
 },
 "nbformat": 4,
 "nbformat_minor": 2
}
